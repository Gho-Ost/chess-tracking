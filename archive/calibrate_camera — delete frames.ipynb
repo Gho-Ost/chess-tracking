{
 "cells": [
  {
   "cell_type": "code",
   "execution_count": 1,
   "metadata": {},
   "outputs": [],
   "source": [
    "import cv2\n",
    "import PIL\n",
    "import numpy as np\n",
    "import matplotlib.pyplot as plt\n",
    "\n",
    "from ipywidgets import Video, widgets\n",
    "from IPython.display import display\n",
    "\n",
    "%matplotlib inline"
   ]
  },
  {
   "cell_type": "code",
   "execution_count": 2,
   "metadata": {},
   "outputs": [],
   "source": [
    "def resize_img(img, div=3):\n",
    "    return cv2.resize(img, (img.shape[1]//div, img.shape[0]//div))"
   ]
  },
  {
   "cell_type": "code",
   "execution_count": 3,
   "metadata": {},
   "outputs": [],
   "source": [
    "video_capture = cv2.VideoCapture('Chess_Data\\\\chess_easy1.mp4')"
   ]
  },
  {
   "cell_type": "code",
   "execution_count": 8,
   "metadata": {},
   "outputs": [
    {
     "ename": "KeyboardInterrupt",
     "evalue": "",
     "output_type": "error",
     "traceback": [
      "\u001b[1;31m---------------------------------------------------------------------------\u001b[0m",
      "\u001b[1;31mKeyboardInterrupt\u001b[0m                         Traceback (most recent call last)",
      "Cell \u001b[1;32mIn [8], line 46\u001b[0m\n\u001b[0;32m     44\u001b[0m frame_diff \u001b[38;5;241m=\u001b[39m cv2\u001b[38;5;241m.\u001b[39mabsdiff(prev_gray, gray)\n\u001b[0;32m     45\u001b[0m _, thresholded_diff \u001b[38;5;241m=\u001b[39m cv2\u001b[38;5;241m.\u001b[39mthreshold(frame_diff, \u001b[38;5;241m30\u001b[39m, \u001b[38;5;241m255\u001b[39m, cv2\u001b[38;5;241m.\u001b[39mTHRESH_BINARY)\n\u001b[1;32m---> 46\u001b[0m contours, _ \u001b[38;5;241m=\u001b[39m \u001b[43mcv2\u001b[49m\u001b[38;5;241;43m.\u001b[39;49m\u001b[43mfindContours\u001b[49m\u001b[43m(\u001b[49m\u001b[43mthresholded_diff\u001b[49m\u001b[43m,\u001b[49m\u001b[43m \u001b[49m\u001b[43mcv2\u001b[49m\u001b[38;5;241;43m.\u001b[39;49m\u001b[43mRETR_EXTERNAL\u001b[49m\u001b[43m,\u001b[49m\u001b[43m \u001b[49m\u001b[43mcv2\u001b[49m\u001b[38;5;241;43m.\u001b[39;49m\u001b[43mCHAIN_APPROX_SIMPLE\u001b[49m\u001b[43m)\u001b[49m\n\u001b[0;32m     48\u001b[0m num_contours \u001b[38;5;241m=\u001b[39m \u001b[38;5;28msum\u001b[39m(\u001b[38;5;241m1\u001b[39m \u001b[38;5;28;01mfor\u001b[39;00m contour \u001b[38;5;129;01min\u001b[39;00m contours \u001b[38;5;28;01mif\u001b[39;00m cv2\u001b[38;5;241m.\u001b[39mcontourArea(contour) \u001b[38;5;241m>\u001b[39m AREA_THRESHOLD)\n\u001b[0;32m     49\u001b[0m \u001b[38;5;28;01mif\u001b[39;00m num_contours \u001b[38;5;241m>\u001b[39m COUNTOUR_THRESHOLD \u001b[38;5;129;01mor\u001b[39;00m echo \u001b[38;5;241m==\u001b[39m \u001b[38;5;28;01mTrue\u001b[39;00m: \u001b[38;5;66;03m# hand detected\u001b[39;00m\n",
      "\u001b[1;31mKeyboardInterrupt\u001b[0m: "
     ]
    }
   ],
   "source": [
    "video_capture = cv2.VideoCapture('Chess_Data\\\\chess_hard1.mp4')\n",
    "\n",
    "def find_closest_points_to_corners(points, corners):\n",
    "    closest_points = []\n",
    "    for corner in corners:\n",
    "        distances = np.linalg.norm(points - corner, axis=1)\n",
    "        closest_point_index = np.argmin(distances)\n",
    "        closest_points.append(points[closest_point_index])\n",
    "    return np.array(closest_points)\n",
    "\n",
    "def get_harris(chessboard):\n",
    "    gray = cv2.cvtColor(chessboard, cv2.COLOR_BGR2GRAY)\n",
    "    blurred = cv2.GaussianBlur(gray, (5, 5), 0)\n",
    "    dst = cv2.cornerHarris(blurred, 5, 3, 0.02)\n",
    "    dst = cv2.dilate(dst, None)\n",
    "    corners = np.argwhere(dst > 0.01 * dst.max())\n",
    "    return corners, chessboard.copy()\n",
    "\n",
    "def get_closest_corners(corners, chessboard):\n",
    "    image_corners = np.array([[0, 0], \n",
    "                              [0, chessboard.shape[1]], \n",
    "                              [chessboard.shape[0], 0], \n",
    "                              [chessboard.shape[0], chessboard.shape[1]]])\n",
    "    closest_corners = find_closest_points_to_corners(corners, image_corners)\n",
    "    return closest_corners\n",
    "\n",
    "\n",
    "ret, prev_frame = video_capture.read()\n",
    "prev_gray = cv2.cvtColor(prev_frame, cv2.COLOR_BGR2GRAY)\n",
    "ECHO_LENGTH = 40\n",
    "COUNTOUR_THRESHOLD = 5\n",
    "AREA_THRESHOLD = 30\n",
    "echo = False\n",
    "curr_echo = 0\n",
    "\n",
    "while True:   \n",
    "    ret, chessboard = video_capture.read()\n",
    "    if not ret:\n",
    "        break\n",
    "    gray = cv2.cvtColor(chessboard, cv2.COLOR_BGR2GRAY)\n",
    "    blurred = cv2.GaussianBlur(gray, (5, 5), 0)\n",
    "    edges = cv2.Canny(blurred, 50, 150)\n",
    "\n",
    "    frame_diff = cv2.absdiff(prev_gray, gray)\n",
    "    _, thresholded_diff = cv2.threshold(frame_diff, 30, 255, cv2.THRESH_BINARY)\n",
    "    contours, _ = cv2.findContours(thresholded_diff, cv2.RETR_EXTERNAL, cv2.CHAIN_APPROX_SIMPLE)\n",
    "\n",
    "    num_contours = sum(1 for contour in contours if cv2.contourArea(contour) > AREA_THRESHOLD)\n",
    "    if num_contours > COUNTOUR_THRESHOLD or echo == True: # hand detected\n",
    "        chessboard = prev_frame\n",
    "        curr_echo+=1\n",
    "        if curr_echo>ECHO_LENGTH:\n",
    "            curr_echo = 0\n",
    "            echo = False\n",
    "        \n",
    "    else: # hand not detected\n",
    "        prev_frame = chessboard\n",
    "        echo = True\n",
    "\n",
    "    corners, frame_with_boxes = get_harris(chessboard)\n",
    "    closest_corners = get_closest_corners(corners, chessboard)\n",
    "    prev_gray = gray.copy()\n",
    "    target_square_size = 1000\n",
    "    target_points = np.array([[0, 0], \n",
    "                              [0, target_square_size - 1], \n",
    "                              [target_square_size - 1, 0], \n",
    "                              [target_square_size - 1, target_square_size - 1]], dtype=np.float32)\n",
    "    \n",
    "    homography_matrix, _ = cv2.findHomography(closest_corners[:,::-1], target_points)\n",
    "    calibrated_image = cv2.warpPerspective(chessboard, homography_matrix, (target_square_size, target_square_size))\n",
    "    offset = 60\n",
    "    clean_img = calibrated_image.copy()\n",
    "\n",
    "    for x in np.linspace(offset, 1000-offset, 9, dtype=int):\n",
    "        cv2.line(clean_img, (x, 0+offset), (x, 1000-offset), color=(0, 0, 255), thickness=2)  \n",
    "        cv2.line(clean_img, (0+offset, x), (1000-offset, x), color=(0, 0, 255), thickness=2)\n",
    "  \n",
    "    cv2.imshow('Frame with Giant Bounding Box', clean_img)\n",
    "    if cv2.waitKey(1) & 0xFF == ord('q'):\n",
    "        break\n",
    "\n",
    "video_capture.release()\n",
    "cv2.destroyAllWindows()"
   ]
  }
 ],
 "metadata": {
  "kernelspec": {
   "display_name": "Python 3",
   "language": "python",
   "name": "python3"
  },
  "language_info": {
   "codemirror_mode": {
    "name": "ipython",
    "version": 3
   },
   "file_extension": ".py",
   "mimetype": "text/x-python",
   "name": "python",
   "nbconvert_exporter": "python",
   "pygments_lexer": "ipython3",
   "version": "3.11.0"
  }
 },
 "nbformat": 4,
 "nbformat_minor": 2
}
