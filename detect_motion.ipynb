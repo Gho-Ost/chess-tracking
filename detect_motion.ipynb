{
 "cells": [
  {
   "cell_type": "code",
   "execution_count": 1,
   "metadata": {},
   "outputs": [],
   "source": [
    "import cv2\n",
    "from ipywidgets import Video\n",
    "import ipywidgets as widgets\n",
    "from IPython.display import display\n",
    "import numpy as np"
   ]
  },
  {
   "cell_type": "code",
   "execution_count": 6,
   "metadata": {},
   "outputs": [
    {
     "name": "stdout",
     "output_type": "stream",
     "text": [
      "1920 1080\n"
     ]
    },
    {
     "ename": "AttributeError",
     "evalue": "'cv2.VideoCapture' object has no attribute 'close'",
     "output_type": "error",
     "traceback": [
      "\u001b[1;31m---------------------------------------------------------------------------\u001b[0m",
      "\u001b[1;31mAttributeError\u001b[0m                            Traceback (most recent call last)",
      "Cell \u001b[1;32mIn [6], line 44\u001b[0m\n\u001b[0;32m     41\u001b[0m out\u001b[38;5;241m.\u001b[39mrelease()\n\u001b[0;32m     43\u001b[0m cv2\u001b[38;5;241m.\u001b[39mdestroyAllWindows()\n\u001b[1;32m---> 44\u001b[0m \u001b[43mcap\u001b[49m\u001b[38;5;241;43m.\u001b[39;49m\u001b[43mclose\u001b[49m()\n\u001b[0;32m     45\u001b[0m out\u001b[38;5;241m.\u001b[39mclose()\n\u001b[0;32m     46\u001b[0m \u001b[38;5;28mprint\u001b[39m(\u001b[38;5;124mf\u001b[39m\u001b[38;5;124m\"\u001b[39m\u001b[38;5;124mGrayscale video saved as \u001b[39m\u001b[38;5;132;01m{\u001b[39;00moutput_file\u001b[38;5;132;01m}\u001b[39;00m\u001b[38;5;124m\"\u001b[39m)\n",
      "\u001b[1;31mAttributeError\u001b[0m: 'cv2.VideoCapture' object has no attribute 'close'"
     ]
    }
   ],
   "source": [
    "import cv2\n",
    "\n",
    "# Input and output video file paths\n",
    "input_file = 'Chess_Data/chess_easy1.mp4'\n",
    "output_file = 'output_video_grayscale.avi'\n",
    "\n",
    "# Open the input video file\n",
    "cap = cv2.VideoCapture(input_file)\n",
    "\n",
    "# Get video properties\n",
    "width = int(cap.get(cv2.CAP_PROP_FRAME_WIDTH))\n",
    "height = int(cap.get(cv2.CAP_PROP_FRAME_HEIGHT))\n",
    "fps = cap.get(cv2.CAP_PROP_FPS)\n",
    "\n",
    "print(width, height)\n",
    "\n",
    "# Define the codec and create VideoWriter object for the output video\n",
    "fourcc = cv2.VideoWriter_fourcc(*'DIVX')  # Use 'XVID' if 'mp4v' doesn't work\n",
    "out = cv2.VideoWriter(output_file, fourcc, fps, (width, height), isColor=False)\n",
    "\n",
    "# Check if the codec is supported\n",
    "if not out.isOpened():\n",
    "    print(\"Error: Codec not supported. Try a different codec.\")\n",
    "    exit()\n",
    "\n",
    "# Read and process each frame\n",
    "while True:\n",
    "    ret, frame = cap.read()\n",
    "\n",
    "    if not ret:\n",
    "        break  # Break the loop if the video has ended\n",
    "\n",
    "    # Convert the frame to grayscale\n",
    "    gray_frame = cv2.cvtColor(frame, cv2.COLOR_BGR2GRAY)\n",
    "\n",
    "    # Write the grayscale frame to the output video file\n",
    "    out.write(cv2.cvtColor(gray_frame, cv2.COLOR_GRAY2BGR))\n",
    "\n",
    "# Release resources\n",
    "cap.release()\n",
    "out.release()\n",
    "\n",
    "cv2.destroyAllWindows()\n",
    "\n",
    "print(f\"Grayscale video saved as {output_file}\")\n"
   ]
  }
 ],
 "metadata": {
  "kernelspec": {
   "display_name": "Chess_Project",
   "language": "python",
   "name": "python3"
  },
  "language_info": {
   "codemirror_mode": {
    "name": "ipython",
    "version": 3
   },
   "file_extension": ".py",
   "mimetype": "text/x-python",
   "name": "python",
   "nbconvert_exporter": "python",
   "pygments_lexer": "ipython3",
   "version": "3.11.0"
  }
 },
 "nbformat": 4,
 "nbformat_minor": 2
}
